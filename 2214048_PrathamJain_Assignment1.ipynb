{
 "cells": [
  {
   "cell_type": "markdown",
   "id": "7761d836",
   "metadata": {},
   "source": [
    "# ASSIGNMENT 1"
   ]
  },
  {
   "cell_type": "code",
   "execution_count": 43,
   "id": "9b9f2e61",
   "metadata": {},
   "outputs": [
    {
     "data": {
      "text/plain": [
       "2401"
      ]
     },
     "execution_count": 43,
     "metadata": {},
     "output_type": "execute_result"
    }
   ],
   "source": [
    "#What is 7 to the power of 4?\n",
    "\n",
    "7**4"
   ]
  },
  {
   "cell_type": "code",
   "execution_count": 5,
   "id": "0eb73a1f",
   "metadata": {},
   "outputs": [
    {
     "data": {
      "text/plain": [
       "['Hi', 'there', 'Yogesh!']"
      ]
     },
     "execution_count": 5,
     "metadata": {},
     "output_type": "execute_result"
    }
   ],
   "source": [
    "#Split this string into list.\n",
    "\n",
    "s = \"Hi there Yogesh!\"\n",
    "s.split()"
   ]
  },
  {
   "cell_type": "code",
   "execution_count": 6,
   "id": "5f779b02",
   "metadata": {},
   "outputs": [
    {
     "data": {
      "text/plain": [
       "'The diameter of Earth is 12742 kilometers.'"
      ]
     },
     "execution_count": 6,
     "metadata": {},
     "output_type": "execute_result"
    }
   ],
   "source": [
    "\"\"\"** Given the variables:**\n",
    "\n",
    "planet = \"Earth\"\n",
    "diameter = 12742\n",
    "** Use .format() to print the following string: **\n",
    "\n",
    "The diameter of Earth is 12742 kilometers.\n",
    "\n",
    "sentence=\"The diameter of {} is {} kilometers.\"\n",
    "planet=\"Earth\"\n",
    "diameter=12742\n",
    "sentence.format(planet,diameter)\"\"\"\n",
    "\n",
    "sentence=\"The diameter of {} is {} kilometers.\"\n",
    "planet=\"Earth\"\n",
    "diameter=12742\n",
    "sentence.format(planet,diameter)"
   ]
  },
  {
   "cell_type": "code",
   "execution_count": 7,
   "id": "3d2f0365",
   "metadata": {},
   "outputs": [],
   "source": [
    "#Given this nested list, use indexing to grab the word \"hello\"\n",
    "\n",
    "lst = [1,2,[3,4],[5,[100,200,['hello']],23,11],1,7]"
   ]
  },
  {
   "cell_type": "code",
   "execution_count": 8,
   "id": "39e8a721",
   "metadata": {},
   "outputs": [
    {
     "data": {
      "text/plain": [
       "[1, 2, [3, 4], [5, [100, 200, ['hello']], 23, 11], 1, 7]"
      ]
     },
     "execution_count": 8,
     "metadata": {},
     "output_type": "execute_result"
    }
   ],
   "source": [
    "lst"
   ]
  },
  {
   "cell_type": "code",
   "execution_count": 9,
   "id": "a7bbd13e",
   "metadata": {},
   "outputs": [
    {
     "data": {
      "text/plain": [
       "'hello'"
      ]
     },
     "execution_count": 9,
     "metadata": {},
     "output_type": "execute_result"
    }
   ],
   "source": [
    "lst[3][1][2][0]"
   ]
  },
  {
   "cell_type": "code",
   "execution_count": 13,
   "id": "56e271dc",
   "metadata": {},
   "outputs": [],
   "source": [
    "#Given this nested dictionary grab the word \"hello\". Be prepared, this will be annoying/tricky.\n",
    "\n",
    "d={'k1':[1,2,3,{'tricky':['oh','man','inception',{'target':[1,2,3,'hello']}]}]}"
   ]
  },
  {
   "cell_type": "code",
   "execution_count": 14,
   "id": "5568ea15",
   "metadata": {},
   "outputs": [
    {
     "data": {
      "text/plain": [
       "{'k1': [1,\n",
       "  2,\n",
       "  3,\n",
       "  {'tricky': ['oh', 'man', 'inception', {'target': [1, 2, 3, 'hello']}]}]}"
      ]
     },
     "execution_count": 14,
     "metadata": {},
     "output_type": "execute_result"
    }
   ],
   "source": [
    "d"
   ]
  },
  {
   "cell_type": "code",
   "execution_count": 15,
   "id": "d67b4f97",
   "metadata": {},
   "outputs": [
    {
     "data": {
      "text/plain": [
       "'hello'"
      ]
     },
     "execution_count": 15,
     "metadata": {},
     "output_type": "execute_result"
    }
   ],
   "source": [
    "d['k1'][3]['tricky'][3]['target'][3]"
   ]
  },
  {
   "cell_type": "code",
   "execution_count": 16,
   "id": "70fc3afc",
   "metadata": {},
   "outputs": [],
   "source": [
    "#Lists are mutable, () are used.\n",
    "#Tuples are immutable, [] are used."
   ]
  },
  {
   "cell_type": "code",
   "execution_count": 18,
   "id": "07453327",
   "metadata": {},
   "outputs": [
    {
     "name": "stdout",
     "output_type": "stream",
     "text": [
      "gmail.com\n"
     ]
    }
   ],
   "source": [
    "#Create a function that grabs the email website domain from a string in the form:\n",
    "\n",
    "def demo(s):\n",
    "    d=s.index('@')\n",
    "    r=s[d+1:]\n",
    "    print(r)\n",
    "\n",
    "test='prathamjain2911@gmail.com'\n",
    "demo(test)"
   ]
  },
  {
   "cell_type": "code",
   "execution_count": 21,
   "id": "a360a5bc",
   "metadata": {},
   "outputs": [],
   "source": [
    "\"\"\"Create a basic function that returns True if the word 'dog' is contained in the input string.\n",
    "Don't worry about edge cases like a punctuation being attached to the word dog, but do account for capitalization\"\"\"\n",
    "\n",
    "def dog_finder(s):\n",
    "    r=s.lower().split()\n",
    "    for i in r:\n",
    "        if i=='dog':\n",
    "            print('True: Dog keyword is present')\n",
    "            return \n",
    "    print('False: Dog keyword is not present')"
   ]
  },
  {
   "cell_type": "code",
   "execution_count": 22,
   "id": "53ae0d62",
   "metadata": {},
   "outputs": [
    {
     "name": "stdout",
     "output_type": "stream",
     "text": [
      "True: Dog keyword is present\n"
     ]
    }
   ],
   "source": [
    "test1=\"He is a cute dog\"\n",
    "dog_finder(test1)"
   ]
  },
  {
   "cell_type": "code",
   "execution_count": 24,
   "id": "b0180a09",
   "metadata": {},
   "outputs": [],
   "source": [
    "#Create a function that counts the number of times the word \"dog\" occurs in a string. Again ignore edge cases.\n",
    "\n",
    "def countDog(s):\n",
    "    r=s.lower().split()\n",
    "    c=r.count('dog')\n",
    "    return c"
   ]
  },
  {
   "cell_type": "code",
   "execution_count": 25,
   "id": "74530923",
   "metadata": {},
   "outputs": [
    {
     "data": {
      "text/plain": [
       "2"
      ]
     },
     "execution_count": 25,
     "metadata": {},
     "output_type": "execute_result"
    }
   ],
   "source": [
    "countDog('This dog runs faster than the other dog dude!')"
   ]
  },
  {
   "cell_type": "code",
   "execution_count": 26,
   "id": "ec8a894c",
   "metadata": {},
   "outputs": [],
   "source": [
    "#Use lambda expressions and the filter() function to filter out words from a list that don't start with the letter 's'.\n",
    "\n",
    "seq = ['soup','dog','salad','cat','great']"
   ]
  },
  {
   "cell_type": "code",
   "execution_count": 27,
   "id": "b8460904",
   "metadata": {},
   "outputs": [
    {
     "data": {
      "text/plain": [
       "['soup', 'dog', 'salad', 'cat', 'great']"
      ]
     },
     "execution_count": 27,
     "metadata": {},
     "output_type": "execute_result"
    }
   ],
   "source": [
    "seq"
   ]
  },
  {
   "cell_type": "code",
   "execution_count": 28,
   "id": "267e1541",
   "metadata": {},
   "outputs": [],
   "source": [
    "x=list(filter(lambda x: x[0]!='s',seq))"
   ]
  },
  {
   "cell_type": "code",
   "execution_count": 29,
   "id": "5f5cab0a",
   "metadata": {},
   "outputs": [
    {
     "data": {
      "text/plain": [
       "['dog', 'cat', 'great']"
      ]
     },
     "execution_count": 29,
     "metadata": {},
     "output_type": "execute_result"
    }
   ],
   "source": [
    "x"
   ]
  },
  {
   "cell_type": "code",
   "execution_count": 30,
   "id": "2c3a1a60",
   "metadata": {},
   "outputs": [],
   "source": [
    "\"\"\"You are driving a little too fast, and a police officer stops you.\n",
    "Write a function to return one of 3 possible results: \"No ticket\", \"Small ticket\", or \"Big Ticket\".\n",
    "If your speed is 60 or less, the result is \"No Ticket\".\n",
    "If speed is between 61 and 80 inclusive, the result is \"Small Ticket\".\n",
    "If speed is 81 or more, the result is \"Big Ticket\".\n",
    "Unless it is your birthday (encoded as a boolean value in the parameters of the function)\n",
    "-- on your birthday, your speed can be 5 higher in all cases.\"\"\"\n",
    "\n",
    "def catch_speed(speed,birthday):\n",
    "    if birthday:\n",
    "        new_speed=speed-5\n",
    "    else:\n",
    "        new_speed=speed\n",
    "    if new_speed>80:\n",
    "        return \"BIG TICKET!\"\n",
    "    elif new_speed>60:\n",
    "        return \"SMALL TICKET!\"\n",
    "    else:\n",
    "        return \"NO TICKET\""
   ]
  },
  {
   "cell_type": "code",
   "execution_count": 31,
   "id": "df9830f6",
   "metadata": {},
   "outputs": [
    {
     "data": {
      "text/plain": [
       "'SMALL TICKET!'"
      ]
     },
     "execution_count": 31,
     "metadata": {},
     "output_type": "execute_result"
    }
   ],
   "source": [
    "catch_speed(81,True)"
   ]
  },
  {
   "cell_type": "code",
   "execution_count": 39,
   "id": "63b31727",
   "metadata": {},
   "outputs": [
    {
     "data": {
      "text/plain": [
       "'NO TICKET'"
      ]
     },
     "execution_count": 39,
     "metadata": {},
     "output_type": "execute_result"
    }
   ],
   "source": [
    "catch_speed(64,True)"
   ]
  },
  {
   "cell_type": "code",
   "execution_count": 41,
   "id": "227c31fa",
   "metadata": {},
   "outputs": [
    {
     "name": "stdout",
     "output_type": "stream",
     "text": [
      "12778"
     ]
    }
   ],
   "source": [
    "\"\"\"Given a string print number num by extracting all the\n",
    "digits from the string as in string\n",
    "Print negative number if the first character in \n",
    "string is '-'\"\"\"\n",
    "\n",
    "give='127d-pfj78'\n",
    "for i in give:\n",
    "    if i !='-':\n",
    "        if i.isalpha()==False:\n",
    "            print(i,end='')"
   ]
  },
  {
   "cell_type": "code",
   "execution_count": 34,
   "id": "18e06bc2",
   "metadata": {},
   "outputs": [
    {
     "name": "stdout",
     "output_type": "stream",
     "text": [
      "Enter the No.: 88\n",
      "Number is:  847\n",
      "Reverse is:  748\n",
      "Number is:  1595\n",
      "Reverse is:  5951\n",
      "Number is:  7546\n",
      "Reverse is:  6457\n",
      "Number is:  14003\n",
      "Reverse is:  30041\n",
      "Number is:  44044\n",
      "Reverse is:  44044\n",
      "Palindome is:  44044\n"
     ]
    }
   ],
   "source": [
    "\"\"\"Swap to check whether a number is palindrome or not on following \\nconditions.\\n1.\n",
    "take input number\\n2. add number and its reverse\\n3.\n",
    "check that number is palindrome or not,if not then sum and its reverse'\"\"\"\n",
    "\n",
    "n1=input(\"Enter the No.: \")\n",
    "n2=int(n1[::-1])\n",
    "n3=str(int(n1)+n2)\n",
    "while n3!=n3[::-1]:\n",
    "    n3=str(int(n3)+int(n3[::-1]))\n",
    "    print(\"Number is: \",n3)\n",
    "    print(\"Reverse is: \", n3[::-1])\n",
    "print(\"Palindome is: \",n3)"
   ]
  },
  {
   "cell_type": "code",
   "execution_count": 42,
   "id": "248ebc08",
   "metadata": {},
   "outputs": [],
   "source": [
    "\"\"\"Write a python function to find and display the five \n",
    "digit number in which the first digit is two more than \n",
    "the second,the second digit is two more than the third,\n",
    "the fourth digit is two less than the third, and the \n",
    "last digit is two more than\n",
    "the fourth.The sum of the third,fourth and fifth digits\n",
    "equals the first.The sum of all the digits is 19\"\"\"\n",
    "\n",
    "def find_five_digit_number():\n",
    "    for num in range(10000, 100000):\n",
    "        digits = [int(digit) for digit in str(num)]\n",
    "        if (digits[0] == digits[1] + 2 and\n",
    "            digits[1] == digits[2] + 2 and\n",
    "            digits[2] - 2 == digits[3] and\n",
    "            digits[4] == digits[3] + 2 and\n",
    "            digits[0] == digits[2] + digits[3] + digits[4] and\n",
    "            sum(digits) == 19):\n",
    "            return num"
   ]
  },
  {
   "cell_type": "code",
   "execution_count": 36,
   "id": "dbcf93c4",
   "metadata": {},
   "outputs": [
    {
     "name": "stdout",
     "output_type": "stream",
     "text": [
      "The five-digit number: 75313\n"
     ]
    }
   ],
   "source": [
    "result = find_five_digit_number()\n",
    "print(\"The five-digit number:\", result)"
   ]
  },
  {
   "cell_type": "code",
   "execution_count": null,
   "id": "36af6fef",
   "metadata": {},
   "outputs": [],
   "source": []
  }
 ],
 "metadata": {
  "kernelspec": {
   "display_name": "Python 3 (ipykernel)",
   "language": "python",
   "name": "python3"
  },
  "language_info": {
   "codemirror_mode": {
    "name": "ipython",
    "version": 3
   },
   "file_extension": ".py",
   "mimetype": "text/x-python",
   "name": "python",
   "nbconvert_exporter": "python",
   "pygments_lexer": "ipython3",
   "version": "3.11.3"
  }
 },
 "nbformat": 4,
 "nbformat_minor": 5
}
